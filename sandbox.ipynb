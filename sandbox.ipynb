{
 "cells": [
  {
   "cell_type": "code",
   "execution_count": 2,
   "id": "f7254a3c-d3f0-4272-ab87-0786e769c6ef",
   "metadata": {},
   "outputs": [],
   "source": [
    "a = 1"
   ]
  },
  {
   "cell_type": "markdown",
   "id": "cbcb1e76-6606-47b4-b3f9-837b6efb7f84",
   "metadata": {},
   "source": [
    "# 제목제목"
   ]
  },
  {
   "cell_type": "markdown",
   "id": "134b1edf-6027-4253-9a13-5810881e8cfa",
   "metadata": {},
   "source": [
    "## 중제목"
   ]
  },
  {
   "cell_type": "code",
   "execution_count": 3,
   "id": "1778fde2-b073-486c-b19f-1bc795b5d618",
   "metadata": {},
   "outputs": [
    {
     "name": "stdout",
     "output_type": "stream",
     "text": [
      "tetetest\n"
     ]
    }
   ],
   "source": [
    "print('tetetest')"
   ]
  },
  {
   "cell_type": "markdown",
   "id": "a7965e32-96a5-4f54-bf5d-c0b072c624bb",
   "metadata": {},
   "source": [
    "## 중제목 2"
   ]
  },
  {
   "cell_type": "code",
   "execution_count": null,
   "id": "85df3fb5-a2d1-4c33-9f35-90fb350f1419",
   "metadata": {},
   "outputs": [],
   "source": []
  }
 ],
 "metadata": {
  "kernelspec": {
   "display_name": "Python 3 (ipykernel)",
   "language": "python",
   "name": "python3"
  },
  "language_info": {
   "codemirror_mode": {
    "name": "ipython",
    "version": 3
   },
   "file_extension": ".py",
   "mimetype": "text/x-python",
   "name": "python",
   "nbconvert_exporter": "python",
   "pygments_lexer": "ipython3",
   "version": "3.12.3"
  }
 },
 "nbformat": 4,
 "nbformat_minor": 5
}
